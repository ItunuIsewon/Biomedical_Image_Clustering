{
 "cells": [
  {
   "cell_type": "code",
   "execution_count": 1,
   "id": "61e696d6",
   "metadata": {},
   "outputs": [],
   "source": [
    "# models \n",
    "from keras.applications.vgg16 import VGG16 \n",
    "from keras.models import Model  \n",
    "from tensorflow.keras.preprocessing.image import load_img \n",
    "from tensorflow.keras.preprocessing.image import img_to_array \n",
    "from tensorflow.keras.applications.vgg16 import preprocess_input \n",
    "# clustering and dimension reduction\n",
    "from sklearn.cluster import KMeans\n",
    "from sklearn.decomposition import PCA\n",
    "import matplotlib.pyplot as plt\n",
    "from sklearn.preprocessing import StandardScaler\n",
    "\n",
    "# for everything else\n",
    "import os\n",
    "import numpy as np\n",
    "import matplotlib.pyplot as plt\n",
    "from random import randint\n",
    "import pandas as pd\n",
    "import pickle"
   ]
  },
  {
   "cell_type": "code",
   "execution_count": null,
   "id": "1429d2de",
   "metadata": {},
   "outputs": [],
   "source": []
  },
  {
   "cell_type": "code",
   "execution_count": 3,
   "id": "9a51dc59",
   "metadata": {},
   "outputs": [],
   "source": [
    "#Class to load the dataset images from device\n",
    "\n",
    "class SimpleDatasetLoader:\n",
    "    # Method: Constructor\n",
    "    def __init__(self, preprocessors=None):\n",
    "        \"\"\"\n",
    "        :param preprocessors: List of image preprocessors\n",
    "        \"\"\"\n",
    "        self.preprocessors = preprocessors\n",
    "\n",
    "        if self.preprocessors is None:\n",
    "            self.preprocessors = []\n",
    "\n",
    "    # Method: Used to load a list of images for pre-processing\n",
    "    def load(self, image_paths, verbose=-1):\n",
    "        \"\"\"\n",
    "        :param image_paths: List of image paths\n",
    "        :param verbose: Parameter for printing information to console\n",
    "        :return: Tuple of data and labels\n",
    "        \"\"\"\n",
    "        data, labels = [], []\n",
    "\n",
    "        for i, image_path in enumerate(image_paths):\n",
    "            image = cv2.imread(image_path)\n",
    "            label = image_path.split(os.path.sep)[-2]\n",
    "\n",
    "            if self.preprocessors is not None:\n",
    "                for p in self.preprocessors:\n",
    "                    image = p.preprocess(image)\n",
    "\n",
    "            data.append(image)\n",
    "            labels.append(label)\n",
    "\n",
    "            if verbose > 0 and i > 0 and (i+1) % verbose == 0:\n",
    "                print('[INFO]: Processed {}/{}'.format(i+1, len(image_paths)))\n",
    "\n",
    "        return (np.array(data), np.array(labels))"
   ]
  },
  {
   "cell_type": "code",
   "execution_count": 5,
   "id": "ec7b328c",
   "metadata": {},
   "outputs": [],
   "source": [
    "import cv2\n",
    "import numpy as np\n",
    "\n",
    "# Class Preprocessor \n",
    "class SimplePreprocessor:\n",
    "    # Method: Constructor\n",
    "    def __init__(self, width, height, interpolation=cv2.INTER_AREA):\n",
    "        \"\"\"\n",
    "        :param width: Image width\n",
    "        :param height: Image height\n",
    "        :param interpolation: Interpolation algorithm\n",
    "        \"\"\"\n",
    "        self.width = width\n",
    "        self.height = height\n",
    "        self.interpolation = interpolation\n",
    "\n",
    "    # Method: Used to resize the image, apply Sobel filtering, and perform Watershed segmentation\n",
    "    def preprocess(self, image):\n",
    "        \"\"\"\n",
    "        :param image: Image\n",
    "        :return: Processed image\n",
    "        \"\"\"\n",
    "        # Step 1: Resize the image to a fixed size (ignoring the aspect ratio)\n",
    "        resized_image = cv2.resize(image, (self.width, self.height), interpolation=self.interpolation)\n",
    "\n",
    "        # Step 2: Apply Sobel filtering to detect edges\n",
    "        sobel_x = cv2.Sobel(resized_image, cv2.CV_64F, 1, 0, ksize=3)\n",
    "        sobel_y = cv2.Sobel(resized_image, cv2.CV_64F, 0, 1, ksize=3)\n",
    "        sobel_magnitude = cv2.magnitude(sobel_x, sobel_y)\n",
    "        sobel_magnitude = cv2.convertScaleAbs(sobel_magnitude)\n",
    "\n",
    "        # Step 3: Convert to grayscale and threshold the image for Watershed\n",
    "        gray_image = cv2.cvtColor(sobel_magnitude, cv2.COLOR_BGR2GRAY)\n",
    "        _, binary_image = cv2.threshold(gray_image, 0, 255, cv2.THRESH_BINARY + cv2.THRESH_OTSU)\n",
    "\n",
    "        # Step 4: Perform distance transform and normalize it\n",
    "        dist_transform = cv2.distanceTransform(binary_image, cv2.DIST_L2, 5)\n",
    "        normalized_dist = cv2.normalize(dist_transform, None, 0, 1.0, cv2.NORM_MINMAX)\n",
    "\n",
    "        # Step 5: Threshold the distance transformed image to create markers\n",
    "        _, markers = cv2.threshold(normalized_dist, 0.5, 1.0, 0)\n",
    "        markers = np.uint8(markers * 255)\n",
    "\n",
    "        # Step 6: Perform connected components analysis\n",
    "        _, markers = cv2.connectedComponents(markers)\n",
    "        \n",
    "        # Add one to all labels so that sure background is not 0, but 1\n",
    "        markers = markers + 1\n",
    "        \n",
    "        # Mark the unknown region with zero\n",
    "        markers[binary_image == 0] = 0\n",
    "\n",
    "        # Step 7: Apply Watershed algorithm\n",
    "        cv2.watershed(resized_image, markers)\n",
    "        resized_image[markers == -1] = [255, 0, 0]  # Mark boundary with red color\n",
    "\n",
    "        return resized_image\n"
   ]
  },
  {
   "cell_type": "code",
   "execution_count": 6,
   "id": "fb91aa5b",
   "metadata": {},
   "outputs": [],
   "source": [
    "from imutils import paths\n",
    "from sklearn.preprocessing import LabelEncoder\n",
    "from sklearn.model_selection import train_test_split\n",
    "from sklearn.metrics import classification_report\n",
    "from __main__ import SimplePreprocessor\n",
    "from __main__ import SimpleDatasetLoader"
   ]
  },
  {
   "cell_type": "code",
   "execution_count": 7,
   "id": "255e3aa3",
   "metadata": {},
   "outputs": [],
   "source": [
    "# Function to load and preprocess data using SimpleDatasetLoader\n",
    "def load_and_preprocess_data(image_paths, target_size):\n",
    "    sp = SimplePreprocessor(target_size[0], target_size[1])\n",
    "    sdl = SimpleDatasetLoader(preprocessors=[sp])\n",
    "    data, labels = sdl.load(image_paths, verbose=1000)\n",
    "\n",
    "    print(data.shape)\n",
    "    print(labels.shape)\n",
    "\n",
    "    # Convert labels to one-hot encoding\n",
    "    le = LabelEncoder()\n",
    "    labels = le.fit_transform(labels)\n",
    "    #labels = to_categorical(labels)\n",
    "\n",
    "    return data, labels"
   ]
  },
  {
   "cell_type": "code",
   "execution_count": null,
   "id": "46b951eb",
   "metadata": {},
   "outputs": [],
   "source": []
  },
  {
   "cell_type": "code",
   "execution_count": 8,
   "id": "64a348cd",
   "metadata": {},
   "outputs": [
    {
     "name": "stdout",
     "output_type": "stream",
     "text": [
      "[INFO]: Images loading....\n",
      "[INFO]: Processed 1000/5666\n",
      "[INFO]: Processed 2000/5666\n",
      "[INFO]: Processed 3000/5666\n",
      "[INFO]: Processed 4000/5666\n",
      "[INFO]: Processed 5000/5666\n",
      "(5666, 224, 224, 3)\n",
      "(5666,)\n"
     ]
    }
   ],
   "source": [
    "# Get list of image paths\n",
    "path = r\"C:\\Users\\Faithgokz\\Documents\\Dataset\\Stain Clustering\"\n",
    "malariaImg = list(paths.list_images(r\"C:\\Users\\Faithgokz\\Documents\\Dataset\\Stain Clustering\"))\n",
    "os.chdir(path)\n",
    "\n",
    "# Define target size for images\n",
    "target_size = (224, 224)  # Change this to your desired size\n",
    "\n",
    "# Load and preprocess data\n",
    "print('[INFO]: Images loading....')\n",
    "data, labels = load_and_preprocess_data(malariaImg, target_size)"
   ]
  },
  {
   "cell_type": "code",
   "execution_count": 9,
   "id": "397c3350",
   "metadata": {},
   "outputs": [],
   "source": [
    "# Extract all filenames with their extensions into a new list\n",
    "filenames = [os.path.basename(path) for path in malariaImg]"
   ]
  },
  {
   "cell_type": "code",
   "execution_count": 10,
   "id": "b6fb3a89",
   "metadata": {},
   "outputs": [
    {
     "name": "stdout",
     "output_type": "stream",
     "text": [
      "178/178 [==============================] - 1421s 8s/step\n",
      "(5666, 25088)\n"
     ]
    }
   ],
   "source": [
    "# Feature Extraction using VGG16\n",
    "# load the model first and pass as an argument and remove output layer\n",
    "base_model = VGG16(weights='imagenet', include_top=False, input_shape=(target_size[0], target_size[1], 3))\n",
    "model = Model(inputs=base_model.input, outputs=base_model.output)\n",
    "\n",
    "# Extract features\n",
    "features = model.predict(data, batch_size=32, verbose=1)\n",
    " \n",
    "# Flatten the features\n",
    "features_flatten = features.reshape(features.shape[0], -1)\n",
    "    \n",
    "print(features_flatten.shape)"
   ]
  },
  {
   "cell_type": "code",
   "execution_count": 11,
   "id": "faa7f8c6",
   "metadata": {},
   "outputs": [],
   "source": [
    "new = features_flatten"
   ]
  },
  {
   "cell_type": "code",
   "execution_count": 12,
   "id": "1546f60e",
   "metadata": {},
   "outputs": [
    {
     "data": {
      "text/plain": [
       "(5666, 25088)"
      ]
     },
     "execution_count": 12,
     "metadata": {},
     "output_type": "execute_result"
    }
   ],
   "source": [
    "new.shape"
   ]
  },
  {
   "cell_type": "code",
   "execution_count": 13,
   "id": "85a25b1c",
   "metadata": {},
   "outputs": [],
   "source": [
    "# Feature Selection\n",
    "\n",
    "from sklearn.feature_selection import VarianceThreshold\n",
    "sel = VarianceThreshold(threshold=(.8 * (1 - .8)))\n",
    "feat = sel.fit_transform(new)"
   ]
  },
  {
   "cell_type": "code",
   "execution_count": 14,
   "id": "94e3fd1b",
   "metadata": {},
   "outputs": [
    {
     "data": {
      "text/plain": [
       "(5666, 13255)"
      ]
     },
     "execution_count": 14,
     "metadata": {},
     "output_type": "execute_result"
    }
   ],
   "source": [
    "feat.shape"
   ]
  },
  {
   "cell_type": "code",
   "execution_count": 15,
   "id": "f2df6357",
   "metadata": {},
   "outputs": [],
   "source": [
    "Clus_dataSet = feat"
   ]
  },
  {
   "cell_type": "code",
   "execution_count": 16,
   "id": "87908246",
   "metadata": {},
   "outputs": [],
   "source": [
    "from sklearn.cluster import KMeans\n",
    "from sklearn.cluster import AffinityPropagation\n",
    "from sklearn.cluster import SpectralClustering\n",
    "from sklearn.cluster import AgglomerativeClustering\n",
    "from sklearn import mixture"
   ]
  },
  {
   "cell_type": "markdown",
   "id": "6d701622",
   "metadata": {},
   "source": [
    "# K-means Clustering"
   ]
  },
  {
   "cell_type": "code",
   "execution_count": 17,
   "id": "4c7011ef",
   "metadata": {},
   "outputs": [],
   "source": [
    "k_means = KMeans(init = \"k-means++\", n_clusters=4, n_init=20, random_state=42)"
   ]
  },
  {
   "cell_type": "code",
   "execution_count": 18,
   "id": "21795908-9ab2-41f6-abdf-b5727123b017",
   "metadata": {
    "scrolled": true
   },
   "outputs": [],
   "source": [
    "#fit the data to our k_means model\n",
    "k_means = k_means.fit(Clus_dataSet)"
   ]
  },
  {
   "cell_type": "code",
   "execution_count": 19,
   "id": "08d211e1",
   "metadata": {},
   "outputs": [
    {
     "name": "stdout",
     "output_type": "stream",
     "text": [
      "The list of labels of the clusters are [0 1 2 3]\n"
     ]
    }
   ],
   "source": [
    "k_means_labels = k_means.labels_ #List of labels of each dataset\n",
    "print(\"The list of labels of the clusters are \" + str(np.unique(k_means_labels)))"
   ]
  },
  {
   "cell_type": "code",
   "execution_count": 20,
   "id": "7fc1dbda",
   "metadata": {
    "scrolled": true
   },
   "outputs": [
    {
     "data": {
      "text/plain": [
       "5666"
      ]
     },
     "execution_count": 20,
     "metadata": {},
     "output_type": "execute_result"
    }
   ],
   "source": [
    "len (k_means.labels_)\n"
   ]
  },
  {
   "cell_type": "code",
   "execution_count": 21,
   "id": "b068dc6a",
   "metadata": {
    "scrolled": true
   },
   "outputs": [
    {
     "name": "stderr",
     "output_type": "stream",
     "text": [
      "C:\\Users\\Faithgokz\\AppData\\Local\\Temp\\ipykernel_23216\\4062612302.py:5: MatplotlibDeprecationWarning: The get_cmap function was deprecated in Matplotlib 3.7 and will be removed two minor releases later. Use ``matplotlib.colormaps[name]`` or ``matplotlib.colormaps.get_cmap(obj)`` instead.\n",
      "  colormap = plt.cm.get_cmap('tab10', num_clusters)\n"
     ]
    },
    {
     "data": {
      "text/plain": [
       "<matplotlib.legend.Legend at 0x1db1114f7f0>"
      ]
     },
     "execution_count": 21,
     "metadata": {},
     "output_type": "execute_result"
    },
    {
     "data": {
      "image/png": "[encoded data removed]",
      "text/plain": [
       "<Figure size 800x600 with 1 Axes>"
      ]
     },
     "metadata": {},
     "output_type": "display_data"
    }
   ],
   "source": [
    "# Get unique cluster labels and their corresponding colors\n",
    "unique_labels = np.unique(k_means.labels_)\n",
    "num_clusters = len(unique_labels)\n",
    "\n",
    "colormap = plt.cm.get_cmap('tab10', num_clusters)\n",
    "\n",
    "# Visualize clusters\n",
    "plt.figure(figsize=(8, 6))\n",
    "scatter_plots = []\n",
    "\n",
    "\n",
    "for i in range(num_clusters):\n",
    "    cluster_points = Clus_dataSet[k_means_labels == i]\n",
    "    cluster_labels = np.array(k_means.labels_)\n",
    "    scatter_plot = plt.scatter(cluster_points[:, 0], cluster_points[:, 1], c=[colormap(i)], label=f'Cluster {i}')\n",
    "    #scatter_plots.append(scatter_plot)\n",
    "    \n",
    "#     for j in range(len(cluster_points)):\n",
    "#         plt.annotate(cluster_labels[j], (cluster_points[j, 0], cluster_points[j, 1]), fontsize=8)\n",
    "\n",
    "    scatter_plots.append(scatter_plot)\n",
    "    \n",
    "\n",
    "plt.title('Cluster Visualization for Stain Clustering')\n",
    "plt.xlabel('x')\n",
    "plt.ylabel('y')\n",
    "plt.legend(handles=scatter_plots, loc='upper right')\n",
    "# plt.show()\n",
    "# plt.savefig('SmearClusteringPts.png', dpi=300, transparent=False)"
   ]
  },
  {
   "cell_type": "code",
   "execution_count": 22,
   "id": "8e5c3ff7",
   "metadata": {
    "scrolled": true
   },
   "outputs": [
    {
     "name": "stdout",
     "output_type": "stream",
     "text": [
      "1. Homogeneity: 0.614\n",
      "2. Completeness: 0.670\n",
      "3. V-measure: 0.641\n",
      "4. Adjusted Rand Index: 0.508\n",
      "5. Adjusted Mutual Information: 0.641\n",
      "6. Silhouette Coefficient: 0.434\n",
      "7. Calinski Harabasz: 2433.662\n",
      "8. Davies-bouldin score: 2.5121727585644322\n"
     ]
    }
   ],
   "source": [
    "# Define the metrics which require only the true labels and estimator\n",
    "# labels\n",
    "from sklearn import metrics\n",
    "from sklearn.metrics import davies_bouldin_score\n",
    "\n",
    "print(f\"1. Homogeneity: {metrics.homogeneity_score(labels, k_means.labels_):.3f}\")\n",
    "print(f\"2. Completeness: {metrics.completeness_score(labels, k_means.labels_):.3f}\")\n",
    "print(f\"3. V-measure: {metrics.v_measure_score(labels, k_means.labels_):.3f}\")\n",
    "print(f\"4. Adjusted Rand Index: {metrics.adjusted_rand_score(labels, k_means.labels_):.3f}\")\n",
    "print(\n",
    "    \"5. Adjusted Mutual Information:\"\n",
    "    f\" {metrics.adjusted_mutual_info_score(labels, k_means.labels_):.3f}\"\n",
    ")\n",
    "print(f\"6. Silhouette Coefficient: {metrics.silhouette_score(Clus_dataSet, k_means.labels_):.3f}\")\n",
    "print(f\"7. Calinski Harabasz: {metrics.calinski_harabasz_score(Clus_dataSet, k_means.labels_):.3f}\")\n",
    "print(f\"8. Davies-bouldin score:\", davies_bouldin_score(Clus_dataSet, k_means.labels_))"
   ]
  },
  {
   "cell_type": "code",
   "execution_count": 23,
   "id": "5ee65cf8",
   "metadata": {},
   "outputs": [],
   "source": [
    "# holds the cluster id and the images { id: [images] }\n",
    "groups = {}\n",
    "for file, cluster in zip(filenames,k_means.labels_):\n",
    "    if cluster not in groups.keys():\n",
    "        groups[cluster] = []\n",
    "        groups[cluster].append(file)\n",
    "    else:\n",
    "        groups[cluster].append(file)"
   ]
  },
  {
   "cell_type": "code",
   "execution_count": 24,
   "id": "8194d334",
   "metadata": {},
   "outputs": [],
   "source": [
    "#len (groups[0])\n",
    "f = open(\"StainCluster0_kmeans.txt\", \"w\")\n",
    "for name in groups[0]:\n",
    "    f.write(name)\n",
    "    f.write(\"\\n\")\n",
    "f.close()"
   ]
  },
  {
   "cell_type": "code",
   "execution_count": 25,
   "id": "da31072d",
   "metadata": {},
   "outputs": [],
   "source": [
    "#len (groups[1])\n",
    "f = open(\"StainCluster1_kmeans.txt\", \"w\")\n",
    "for name in groups[1]:\n",
    "    f.write(name)\n",
    "    f.write(\"\\n\")\n",
    "f.close()"
   ]
  },
  {
   "cell_type": "code",
   "execution_count": 26,
   "id": "e84c8247",
   "metadata": {},
   "outputs": [],
   "source": [
    "#len (groups[1])\n",
    "f = open(\"StainCluster2_kmeans.txt\", \"w\")\n",
    "for name in groups[2]:\n",
    "    f.write(name)\n",
    "    f.write(\"\\n\")\n",
    "f.close()"
   ]
  },
  {
   "cell_type": "code",
   "execution_count": 27,
   "id": "1f0191fe",
   "metadata": {},
   "outputs": [],
   "source": [
    "#len (groups[1])\n",
    "f = open(\"StainCluster3_kmeans.txt\", \"w\")\n",
    "for name in groups[3]:\n",
    "    f.write(name)\n",
    "    f.write(\"\\n\")\n",
    "f.close()"
   ]
  },
  {
   "cell_type": "code",
   "execution_count": null,
   "id": "8abaedac",
   "metadata": {},
   "outputs": [],
   "source": []
  },
  {
   "cell_type": "markdown",
   "id": "0d21d832",
   "metadata": {},
   "source": [
    "# Agglomerative Clustering"
   ]
  },
  {
   "cell_type": "code",
   "execution_count": 27,
   "id": "8d89790e",
   "metadata": {},
   "outputs": [
    {
     "data": {
      "text/plain": [
       "array([1, 1, 1, ..., 1, 1, 1], dtype=int64)"
      ]
     },
     "execution_count": 27,
     "metadata": {},
     "output_type": "execute_result"
    }
   ],
   "source": [
    "# For Agglomerative Clustering Visualization\n",
    "Agglo = AgglomerativeClustering(n_clusters = 3)\n",
    "\n",
    "# Fit the data to the model\n",
    "Agglo.fit(Clus_dataSet)\n",
    "\n",
    "Agglo.labels_"
   ]
  },
  {
   "cell_type": "code",
   "execution_count": 28,
   "id": "732787ed",
   "metadata": {},
   "outputs": [
    {
     "name": "stdout",
     "output_type": "stream",
     "text": [
      "The list of labels of the clusters are [0 1 2]\n",
      "5666\n"
     ]
    }
   ],
   "source": [
    "Agglo_labels = Agglo.labels_ #List of labels of each dataset\n",
    "print(\"The list of labels of the clusters are \" + str(np.unique(Agglo_labels)))\n",
    "print(len(Agglo_labels))"
   ]
  },
  {
   "cell_type": "code",
   "execution_count": 29,
   "id": "ec5f779a",
   "metadata": {},
   "outputs": [
    {
     "name": "stderr",
     "output_type": "stream",
     "text": [
      "C:\\Users\\Faithgokz\\AppData\\Local\\Temp\\ipykernel_12544\\3209543045.py:5: MatplotlibDeprecationWarning: The get_cmap function was deprecated in Matplotlib 3.7 and will be removed two minor releases later. Use ``matplotlib.colormaps[name]`` or ``matplotlib.colormaps.get_cmap(obj)`` instead.\n",
      "  colormap = plt.cm.get_cmap('tab10', num_clusters)\n"
     ]
    },
    {
     "data": {
      "text/plain": [
       "<matplotlib.legend.Legend at 0x219e9685b10>"
      ]
     },
     "execution_count": 29,
     "metadata": {},
     "output_type": "execute_result"
    },
    {
     "data": {
      "image/png": "[encoded data removed]",
      "text/plain": [
       "<Figure size 800x600 with 1 Axes>"
      ]
     },
     "metadata": {},
     "output_type": "display_data"
    }
   ],
   "source": [
    "# Get unique cluster labels and their corresponding colors\n",
    "unique_labels = np.unique(Agglo.labels_)\n",
    "num_clusters = len(unique_labels)\n",
    "\n",
    "colormap = plt.cm.get_cmap('tab10', num_clusters)\n",
    "\n",
    "# Visualize clusters\n",
    "plt.figure(figsize=(8, 6))\n",
    "scatter_plots = []\n",
    "\n",
    "\n",
    "for i in range(num_clusters):\n",
    "    cluster_points = Clus_dataSet[Agglo_labels == i]\n",
    "    cluster_labels = np.array(Agglo.labels_)\n",
    "    scatter_plot = plt.scatter(cluster_points[:, 0], cluster_points[:, 1], c=[colormap(i)], label=f'Cluster {i}')\n",
    "    #scatter_plots.append(scatter_plot)\n",
    "    \n",
    "#     for j in range(len(cluster_points)):\n",
    "#         plt.annotate(cluster_labels[j], (cluster_points[j, 0], cluster_points[j, 1]), fontsize=8)\n",
    "\n",
    "    scatter_plots.append(scatter_plot)\n",
    "    \n",
    "\n",
    "plt.title('Cluster Visualization for Stain Clustering')\n",
    "plt.xlabel('x')\n",
    "plt.ylabel('y')\n",
    "plt.legend(handles=scatter_plots, loc='upper right')\n",
    "# plt.show()\n",
    "# plt.savefig('SmearClusteringPts.png', dpi=300, transparent=False)"
   ]
  },
  {
   "cell_type": "code",
   "execution_count": 30,
   "id": "326692e9",
   "metadata": {
    "scrolled": false
   },
   "outputs": [
    {
     "name": "stdout",
     "output_type": "stream",
     "text": [
      "1. Homogeneity: 0.614\n",
      "2. Completeness: 0.845\n",
      "3. V-measure: 0.712\n",
      "4. Adjusted Rand Index: 0.599\n",
      "5. Adjusted Mutual Information: 0.711\n",
      "6. Silhouette Coefficient: 0.469\n",
      "7. Calinski Harabasz: 3375.983\n",
      "8. Davies-bouldin score: 1.8733595285641502\n"
     ]
    }
   ],
   "source": [
    "# Define the metrics which require only the true labels and estimator\n",
    "# labels\n",
    "from sklearn import metrics\n",
    "from sklearn.metrics import davies_bouldin_score\n",
    "\n",
    "print(f\"1. Homogeneity: {metrics.homogeneity_score(labels, Agglo.labels_):.3f}\")\n",
    "print(f\"2. Completeness: {metrics.completeness_score(labels, Agglo.labels_):.3f}\")\n",
    "print(f\"3. V-measure: {metrics.v_measure_score(labels, Agglo.labels_):.3f}\")\n",
    "print(f\"4. Adjusted Rand Index: {metrics.adjusted_rand_score(labels, Agglo.labels_):.3f}\")\n",
    "print(\n",
    "    \"5. Adjusted Mutual Information:\"\n",
    "    f\" {metrics.adjusted_mutual_info_score(labels, Agglo.labels_):.3f}\"\n",
    ")\n",
    "print(f\"6. Silhouette Coefficient: {metrics.silhouette_score(Clus_dataSet, Agglo.labels_):.3f}\")\n",
    "print(f\"7. Calinski Harabasz: {metrics.calinski_harabasz_score(Clus_dataSet, Agglo.labels_):.3f}\")\n",
    "print(f\"8. Davies-bouldin score:\", davies_bouldin_score(Clus_dataSet, Agglo.labels_))"
   ]
  },
  {
   "cell_type": "code",
   "execution_count": 31,
   "id": "65d89c01",
   "metadata": {},
   "outputs": [],
   "source": [
    "# holds the cluster id and the images { id: [images] }\n",
    "groups = {}\n",
    "for file, cluster in zip(filenames,Agglo.labels_):\n",
    "    if cluster not in groups.keys():\n",
    "        groups[cluster] = []\n",
    "        groups[cluster].append(file)\n",
    "    else:\n",
    "        groups[cluster].append(file)"
   ]
  },
  {
   "cell_type": "code",
   "execution_count": 32,
   "id": "c7725402",
   "metadata": {},
   "outputs": [],
   "source": [
    "#len (groups[0])\n",
    "f = open(\"StainCluster0_Agglo.txt\", \"w\")\n",
    "for name in groups[0]:\n",
    "    f.write(name)\n",
    "    f.write(\"\\n\")\n",
    "f.close()"
   ]
  },
  {
   "cell_type": "code",
   "execution_count": 33,
   "id": "bbba0bd4",
   "metadata": {},
   "outputs": [],
   "source": [
    "#len (groups[1])\n",
    "f = open(\"StainCluster1_Agglo.txt\", \"w\")\n",
    "for name in groups[1]:\n",
    "    f.write(name)\n",
    "    f.write(\"\\n\")\n",
    "f.close()"
   ]
  },
  {
   "cell_type": "code",
   "execution_count": 34,
   "id": "a8f1ad56",
   "metadata": {},
   "outputs": [],
   "source": [
    "#len (groups[1])\n",
    "f = open(\"StainCluster2_Agglo.txt\", \"w\")\n",
    "for name in groups[2]:\n",
    "    f.write(name)\n",
    "    f.write(\"\\n\")\n",
    "f.close()"
   ]
  },
  {
   "cell_type": "code",
   "execution_count": null,
   "id": "f8781583",
   "metadata": {},
   "outputs": [],
   "source": []
  },
  {
   "cell_type": "markdown",
   "id": "d76d78f6",
   "metadata": {},
   "source": [
    "# Gaussian Mixture Clustering"
   ]
  },
  {
   "cell_type": "code",
   "execution_count": 35,
   "id": "c88193a1",
   "metadata": {},
   "outputs": [],
   "source": [
    "Mix = mixture.GaussianMixture(n_components = 3, covariance_type=\"full\")\n",
    "Mix_Clust = Mix.fit(Clus_dataSet)\n",
    "\n",
    "Mix.labels_ = Mix.predict(Clus_dataSet)"
   ]
  },
  {
   "cell_type": "code",
   "execution_count": 36,
   "id": "145536c4",
   "metadata": {},
   "outputs": [
    {
     "name": "stdout",
     "output_type": "stream",
     "text": [
      "The list of labels of the clusters are [0 1 2]\n",
      "5666\n"
     ]
    }
   ],
   "source": [
    "Mix_labels = Mix.labels_ #List of labels of each dataset\n",
    "print(\"The list of labels of the clusters are \" + str(np.unique(Agglo_labels)))\n",
    "print(len(Mix_labels))"
   ]
  },
  {
   "cell_type": "code",
   "execution_count": 37,
   "id": "9b46713e",
   "metadata": {},
   "outputs": [
    {
     "name": "stderr",
     "output_type": "stream",
     "text": [
      "C:\\Users\\Faithgokz\\AppData\\Local\\Temp\\ipykernel_12544\\2449713155.py:5: MatplotlibDeprecationWarning: The get_cmap function was deprecated in Matplotlib 3.7 and will be removed two minor releases later. Use ``matplotlib.colormaps[name]`` or ``matplotlib.colormaps.get_cmap(obj)`` instead.\n",
      "  colormap = plt.cm.get_cmap('tab10', num_clusters)\n"
     ]
    },
    {
     "data": {
      "text/plain": [
       "<matplotlib.legend.Legend at 0x219ab6b7dc0>"
      ]
     },
     "execution_count": 37,
     "metadata": {},
     "output_type": "execute_result"
    },
    {
     "data": {
      "image/png": "[encoded data removed]",
      "text/plain": [
       "<Figure size 800x600 with 1 Axes>"
      ]
     },
     "metadata": {},
     "output_type": "display_data"
    }
   ],
   "source": [
    "# Get unique cluster labels and their corresponding colors\n",
    "unique_labels = np.unique(Mix.labels_)\n",
    "num_clusters = len(unique_labels)\n",
    "\n",
    "colormap = plt.cm.get_cmap('tab10', num_clusters)\n",
    "\n",
    "# Visualize clusters\n",
    "plt.figure(figsize=(8, 6))\n",
    "scatter_plots = []\n",
    "\n",
    "\n",
    "for i in range(num_clusters):\n",
    "    cluster_points = Clus_dataSet[Mix_labels == i]\n",
    "    cluster_labels = np.array(Mix.labels_)\n",
    "    scatter_plot = plt.scatter(cluster_points[:, 0], cluster_points[:, 1], c=[colormap(i)], label=f'Cluster {i}')\n",
    "    #scatter_plots.append(scatter_plot)\n",
    "    \n",
    "#     for j in range(len(cluster_points)):\n",
    "#         plt.annotate(cluster_labels[j], (cluster_points[j, 0], cluster_points[j, 1]), fontsize=8)\n",
    "\n",
    "    scatter_plots.append(scatter_plot)\n",
    "    \n",
    "\n",
    "plt.title('Cluster Visualization for Stain Clustering')\n",
    "plt.xlabel('x')\n",
    "plt.ylabel('y')\n",
    "plt.legend(handles=scatter_plots, loc='upper right')\n",
    "# plt.show()\n",
    "# plt.savefig('SmearClusteringPts.png', dpi=300, transparent=False)"
   ]
  },
  {
   "cell_type": "code",
   "execution_count": 38,
   "id": "5874a900",
   "metadata": {
    "scrolled": true
   },
   "outputs": [
    {
     "name": "stdout",
     "output_type": "stream",
     "text": [
      "1. Homogeneity: 0.614\n",
      "2. Completeness: 0.742\n",
      "3. V-measure: 0.672\n",
      "4. Adjusted Rand Index: 0.532\n",
      "5. Adjusted Mutual Information: 0.672\n",
      "6. Silhouette Coefficient: 0.430\n",
      "7. Calinski Harabasz: 3385.647\n",
      "8. Davies-bouldin score: 2.679538834634305\n"
     ]
    }
   ],
   "source": [
    "# Define the metrics which require only the true labels and estimator\n",
    "# labels\n",
    "from sklearn import metrics\n",
    "from sklearn.metrics import davies_bouldin_score\n",
    "\n",
    "print(f\"1. Homogeneity: {metrics.homogeneity_score(labels, Mix.labels_):.3f}\")\n",
    "print(f\"2. Completeness: {metrics.completeness_score(labels, Mix.labels_):.3f}\")\n",
    "print(f\"3. V-measure: {metrics.v_measure_score(labels, Mix.labels_):.3f}\")\n",
    "print(f\"4. Adjusted Rand Index: {metrics.adjusted_rand_score(labels, Mix.labels_):.3f}\")\n",
    "print(\n",
    "    \"5. Adjusted Mutual Information:\"\n",
    "    f\" {metrics.adjusted_mutual_info_score(labels, Mix.labels_):.3f}\"\n",
    ")\n",
    "print(f\"6. Silhouette Coefficient: {metrics.silhouette_score(Clus_dataSet, Mix.labels_):.3f}\")\n",
    "print(f\"7. Calinski Harabasz: {metrics.calinski_harabasz_score(Clus_dataSet, Mix.labels_):.3f}\")\n",
    "print(f\"8. Davies-bouldin score:\", davies_bouldin_score(Clus_dataSet, Mix.labels_))"
   ]
  },
  {
   "cell_type": "code",
   "execution_count": 39,
   "id": "aba423f8",
   "metadata": {},
   "outputs": [],
   "source": [
    "# holds the cluster id and the images { id: [images] }\n",
    "groups = {}\n",
    "for file, cluster in zip(filenames,Mix.labels_):\n",
    "    if cluster not in groups.keys():\n",
    "        groups[cluster] = []\n",
    "        groups[cluster].append(file)\n",
    "    else:\n",
    "        groups[cluster].append(file)"
   ]
  },
  {
   "cell_type": "code",
   "execution_count": 40,
   "id": "d0b7d3ba",
   "metadata": {},
   "outputs": [],
   "source": [
    "#len (groups[0])\n",
    "f = open(\"StainCluster0_Mix.txt\", \"w\")\n",
    "for name in groups[0]:\n",
    "    f.write(name)\n",
    "    f.write(\"\\n\")\n",
    "f.close()"
   ]
  },
  {
   "cell_type": "code",
   "execution_count": 41,
   "id": "4529a78b",
   "metadata": {},
   "outputs": [],
   "source": [
    "#len (groups[1])\n",
    "f = open(\"StainCluster1_Mix.txt\", \"w\")\n",
    "for name in groups[1]:\n",
    "    f.write(name)\n",
    "    f.write(\"\\n\")\n",
    "f.close()"
   ]
  },
  {
   "cell_type": "code",
   "execution_count": 42,
   "id": "91b0134b",
   "metadata": {},
   "outputs": [],
   "source": [
    "#len (groups[1])\n",
    "f = open(\"StainCluster2_Mix.txt\", \"w\")\n",
    "for name in groups[2]:\n",
    "    f.write(name)\n",
    "    f.write(\"\\n\")\n",
    "f.close()"
   ]
  },
  {
   "cell_type": "code",
   "execution_count": null,
   "id": "2a8cb499",
   "metadata": {},
   "outputs": [],
   "source": []
  },
  {
   "cell_type": "markdown",
   "id": "aeb1463c",
   "metadata": {},
   "source": [
    "# Spectral Clustering"
   ]
  },
  {
   "cell_type": "code",
   "execution_count": 43,
   "id": "13d2210e",
   "metadata": {},
   "outputs": [
    {
     "name": "stderr",
     "output_type": "stream",
     "text": [
      "C:\\Users\\Faithgokz\\anaconda3\\lib\\site-packages\\sklearn\\manifold\\_spectral_embedding.py:273: UserWarning: Graph is not fully connected, spectral embedding may not work as expected.\n",
      "  warnings.warn(\n"
     ]
    }
   ],
   "source": [
    "Spec = SpectralClustering(n_clusters = 3, n_jobs = -1, eigen_solver='arpack',\n",
    "                                           affinity=\"nearest_neighbors\")\n",
    "Spec_Clust = Spec.fit(Clus_dataSet)"
   ]
  },
  {
   "cell_type": "code",
   "execution_count": 44,
   "id": "96aca454",
   "metadata": {},
   "outputs": [
    {
     "name": "stdout",
     "output_type": "stream",
     "text": [
      "The list of labels of the clusters are [0 1 2]\n"
     ]
    },
    {
     "data": {
      "text/plain": [
       "5666"
      ]
     },
     "execution_count": 44,
     "metadata": {},
     "output_type": "execute_result"
    }
   ],
   "source": [
    "Spec_labels = Spec_Clust.labels_ #List of labels of each dataset\n",
    "print(\"The list of labels of the clusters are \" + str(np.unique(Spec_labels)))\n",
    "len (Spec_labels)"
   ]
  },
  {
   "cell_type": "code",
   "execution_count": 45,
   "id": "ad8b5399",
   "metadata": {},
   "outputs": [
    {
     "name": "stderr",
     "output_type": "stream",
     "text": [
      "C:\\Users\\Faithgokz\\AppData\\Local\\Temp\\ipykernel_12544\\2618900609.py:5: MatplotlibDeprecationWarning: The get_cmap function was deprecated in Matplotlib 3.7 and will be removed two minor releases later. Use ``matplotlib.colormaps[name]`` or ``matplotlib.colormaps.get_cmap(obj)`` instead.\n",
      "  colormap = plt.cm.get_cmap('tab10', num_clusters)\n"
     ]
    },
    {
     "data": {
      "text/plain": [
       "<matplotlib.legend.Legend at 0x219e9872530>"
      ]
     },
     "execution_count": 45,
     "metadata": {},
     "output_type": "execute_result"
    },
    {
     "data": {
      "image/png": "[encoded data removed]",
      "text/plain": [
       "<Figure size 800x600 with 1 Axes>"
      ]
     },
     "metadata": {},
     "output_type": "display_data"
    }
   ],
   "source": [
    "# Get unique cluster labels and their corresponding colors\n",
    "unique_labels = np.unique(Spec_Clust.labels_)\n",
    "num_clusters = len(unique_labels)\n",
    "\n",
    "colormap = plt.cm.get_cmap('tab10', num_clusters)\n",
    "\n",
    "# Visualize clusters\n",
    "plt.figure(figsize=(8, 6))\n",
    "scatter_plots = []\n",
    "\n",
    "\n",
    "for i in range(num_clusters):\n",
    "    cluster_points = Clus_dataSet[Spec_labels == i]\n",
    "    cluster_labels = np.array(Spec.labels_)\n",
    "    scatter_plot = plt.scatter(cluster_points[:, 0], cluster_points[:, 1], c=[colormap(i)], label=f'Cluster {i}')\n",
    "    #scatter_plots.append(scatter_plot)\n",
    "    \n",
    "#     for j in range(len(cluster_points)):\n",
    "#         plt.annotate(cluster_labels[j], (cluster_points[j, 0], cluster_points[j, 1]), fontsize=8)\n",
    "\n",
    "    scatter_plots.append(scatter_plot)\n",
    "    \n",
    "\n",
    "plt.title('Cluster Visualization for Stain Clustering')\n",
    "plt.xlabel('x')\n",
    "plt.ylabel('y')\n",
    "plt.legend(handles=scatter_plots, loc='upper right')\n",
    "# plt.show()\n",
    "# plt.savefig('SmearClusteringPts.png', dpi=300, transparent=False)"
   ]
  },
  {
   "cell_type": "code",
   "execution_count": 46,
   "id": "3c104c74",
   "metadata": {
    "scrolled": true
   },
   "outputs": [
    {
     "name": "stdout",
     "output_type": "stream",
     "text": [
      "1. Homogeneity: 0.614\n",
      "2. Completeness: 0.846\n",
      "3. V-measure: 0.712\n",
      "4. Adjusted Rand Index: 0.600\n",
      "5. Adjusted Mutual Information: 0.712\n",
      "6. Silhouette Coefficient: 0.469\n",
      "7. Calinski Harabasz: 3375.477\n",
      "8. Davies-bouldin score: 1.8706841055156838\n"
     ]
    }
   ],
   "source": [
    "# Define the metrics which require only the true labels and estimator\n",
    "# labels\n",
    "from sklearn import metrics\n",
    "from sklearn.metrics import davies_bouldin_score\n",
    "\n",
    "print(f\"1. Homogeneity: {metrics.homogeneity_score(labels, Spec.labels_):.3f}\")\n",
    "print(f\"2. Completeness: {metrics.completeness_score(labels, Spec.labels_):.3f}\")\n",
    "print(f\"3. V-measure: {metrics.v_measure_score(labels, Spec.labels_):.3f}\")\n",
    "print(f\"4. Adjusted Rand Index: {metrics.adjusted_rand_score(labels, Spec.labels_):.3f}\")\n",
    "print(\n",
    "    \"5. Adjusted Mutual Information:\"\n",
    "    f\" {metrics.adjusted_mutual_info_score(labels, Spec.labels_):.3f}\"\n",
    ")\n",
    "print(f\"6. Silhouette Coefficient: {metrics.silhouette_score(Clus_dataSet, Spec.labels_):.3f}\")\n",
    "print(f\"7. Calinski Harabasz: {metrics.calinski_harabasz_score(Clus_dataSet, Spec.labels_):.3f}\")\n",
    "print(f\"8. Davies-bouldin score:\", davies_bouldin_score(Clus_dataSet, Spec.labels_))"
   ]
  },
  {
   "cell_type": "code",
   "execution_count": 47,
   "id": "c7a3c151",
   "metadata": {},
   "outputs": [],
   "source": [
    "# holds the cluster id and the images { id: [images] }\n",
    "groups = {}\n",
    "for file, cluster in zip(filenames,Spec.labels_):\n",
    "    if cluster not in groups.keys():\n",
    "        groups[cluster] = []\n",
    "        groups[cluster].append(file)\n",
    "    else:\n",
    "        groups[cluster].append(file)"
   ]
  },
  {
   "cell_type": "code",
   "execution_count": 48,
   "id": "32107eff",
   "metadata": {},
   "outputs": [],
   "source": [
    "#len (groups[0])\n",
    "f = open(\"StainCluster0_Spec.txt\", \"w\")\n",
    "for name in groups[0]:\n",
    "    f.write(name)\n",
    "    f.write(\"\\n\")\n",
    "f.close()"
   ]
  },
  {
   "cell_type": "code",
   "execution_count": 49,
   "id": "9e415703",
   "metadata": {},
   "outputs": [],
   "source": [
    "#len (groups[1])\n",
    "f = open(\"StainCluster1_Spec.txt\", \"w\")\n",
    "for name in groups[1]:\n",
    "    f.write(name)\n",
    "    f.write(\"\\n\")\n",
    "f.close()"
   ]
  },
  {
   "cell_type": "code",
   "execution_count": 50,
   "id": "5ce28051",
   "metadata": {},
   "outputs": [],
   "source": [
    "#len (groups[1])\n",
    "f = open(\"StainCluster2_Spec.txt\", \"w\")\n",
    "for name in groups[2]:\n",
    "    f.write(name)\n",
    "    f.write(\"\\n\")\n",
    "f.close()"
   ]
  },
  {
   "cell_type": "code",
   "execution_count": null,
   "id": "d3dd3d26",
   "metadata": {},
   "outputs": [],
   "source": []
  },
  {
   "cell_type": "markdown",
   "id": "ff192395",
   "metadata": {},
   "source": [
    "## K-medoid Clustering - PAM"
   ]
  },
  {
   "cell_type": "code",
   "execution_count": 51,
   "id": "7900470d",
   "metadata": {},
   "outputs": [],
   "source": [
    "# pip install scikit-learn-extra"
   ]
  },
  {
   "cell_type": "code",
   "execution_count": 52,
   "id": "909a5480",
   "metadata": {},
   "outputs": [
    {
     "name": "stdout",
     "output_type": "stream",
     "text": [
      "Labels : [0 2 0 ... 0 0 0]\n",
      "Cluster centers  : [[ 0.        0.        0.       ...  0.        0.        0.      ]\n",
      " [ 5.959866  0.       33.702835 ...  0.       12.503898  0.      ]\n",
      " [ 0.        0.        0.869267 ...  0.        0.        0.      ]]\n"
     ]
    }
   ],
   "source": [
    "import numpy as np\n",
    "from sklearn_extra.cluster import KMedoids\n",
    "\n",
    "model_KM = KMedoids(n_clusters=3)\n",
    "KM_Clust = model_KM.fit(Clus_dataSet)\n",
    "print(\"Labels :\", KM_Clust.labels_)\n",
    "print(\"Cluster centers  :\", KM_Clust.cluster_centers_)"
   ]
  },
  {
   "cell_type": "code",
   "execution_count": 53,
   "id": "b539dc8c",
   "metadata": {},
   "outputs": [
    {
     "name": "stdout",
     "output_type": "stream",
     "text": [
      "The list of labels of the clusters are [0 1 2]\n"
     ]
    },
    {
     "data": {
      "text/plain": [
       "5666"
      ]
     },
     "execution_count": 53,
     "metadata": {},
     "output_type": "execute_result"
    }
   ],
   "source": [
    "KM_labels = KM_Clust.labels_ #List of labels of each dataset\n",
    "print(\"The list of labels of the clusters are \" + str(np.unique(KM_labels)))\n",
    "len (KM_labels)"
   ]
  },
  {
   "cell_type": "code",
   "execution_count": 54,
   "id": "74089943",
   "metadata": {},
   "outputs": [
    {
     "name": "stderr",
     "output_type": "stream",
     "text": [
      "C:\\Users\\Faithgokz\\AppData\\Local\\Temp\\ipykernel_12544\\3764362359.py:5: MatplotlibDeprecationWarning: The get_cmap function was deprecated in Matplotlib 3.7 and will be removed two minor releases later. Use ``matplotlib.colormaps[name]`` or ``matplotlib.colormaps.get_cmap(obj)`` instead.\n",
      "  colormap = plt.cm.get_cmap('tab10', num_clusters)\n"
     ]
    },
    {
     "data": {
      "text/plain": [
       "<matplotlib.legend.Legend at 0x219e9932890>"
      ]
     },
     "execution_count": 54,
     "metadata": {},
     "output_type": "execute_result"
    },
    {
     "data": {
      "image/png": "[encoded data removed]",
      "text/plain": [
       "<Figure size 800x600 with 1 Axes>"
      ]
     },
     "metadata": {},
     "output_type": "display_data"
    }
   ],
   "source": [
    "# Get unique cluster labels and their corresponding colors\n",
    "unique_labels = np.unique(KM_Clust.labels_)\n",
    "num_clusters = len(unique_labels)\n",
    "\n",
    "colormap = plt.cm.get_cmap('tab10', num_clusters)\n",
    "\n",
    "# Visualize clusters\n",
    "plt.figure(figsize=(8, 6))\n",
    "scatter_plots = []\n",
    "\n",
    "\n",
    "for i in range(num_clusters):\n",
    "    cluster_points = Clus_dataSet[KM_labels == i]\n",
    "    cluster_labels = np.array(KM_Clust.labels_)\n",
    "    scatter_plot = plt.scatter(cluster_points[:, 0], cluster_points[:, 1], c=[colormap(i)], label=f'Cluster {i}')\n",
    "    #scatter_plots.append(scatter_plot)\n",
    "    \n",
    "#     for j in range(len(cluster_points)):\n",
    "#         plt.annotate(cluster_labels[j], (cluster_points[j, 0], cluster_points[j, 1]), fontsize=8)\n",
    "\n",
    "    scatter_plots.append(scatter_plot)\n",
    "    \n",
    "\n",
    "plt.title('Cluster Visualization for Stain Clustering')\n",
    "plt.xlabel('x')\n",
    "plt.ylabel('y')\n",
    "plt.legend(handles=scatter_plots, loc='upper right')\n",
    "# plt.show()\n",
    "# plt.savefig('SmearClusteringPts.png', dpi=300, transparent=False)"
   ]
  },
  {
   "cell_type": "code",
   "execution_count": 55,
   "id": "a82de459",
   "metadata": {},
   "outputs": [
    {
     "name": "stdout",
     "output_type": "stream",
     "text": [
      "1. Homogeneity: 0.654\n",
      "2. Completeness: 0.648\n",
      "3. V-measure: 0.651\n",
      "4. Adjusted Rand Index: 0.527\n",
      "5. Adjusted Mutual Information: 0.651\n",
      "6. Silhouette Coefficient: 0.096\n",
      "7. Calinski Harabasz: 3193.465\n",
      "8. Davies-bouldin score: 3.0028818137895725\n"
     ]
    }
   ],
   "source": [
    "# Define the metrics which require only the true labels and estimator\n",
    "# labels\n",
    "from sklearn import metrics\n",
    "from sklearn.metrics import davies_bouldin_score\n",
    "\n",
    "print(f\"1. Homogeneity: {metrics.homogeneity_score(labels, KM_Clust.labels_):.3f}\")\n",
    "print(f\"2. Completeness: {metrics.completeness_score(labels, KM_Clust.labels_):.3f}\")\n",
    "print(f\"3. V-measure: {metrics.v_measure_score(labels, KM_Clust.labels_):.3f}\")\n",
    "print(f\"4. Adjusted Rand Index: {metrics.adjusted_rand_score(labels, KM_Clust.labels_):.3f}\")\n",
    "print(\n",
    "    \"5. Adjusted Mutual Information:\"\n",
    "    f\" {metrics.adjusted_mutual_info_score(labels, KM_Clust.labels_):.3f}\"\n",
    ")\n",
    "print(f\"6. Silhouette Coefficient: {metrics.silhouette_score(Clus_dataSet, KM_Clust.labels_):.3f}\")\n",
    "print(f\"7. Calinski Harabasz: {metrics.calinski_harabasz_score(Clus_dataSet, KM_Clust.labels_):.3f}\")\n",
    "print(f\"8. Davies-bouldin score:\", davies_bouldin_score(Clus_dataSet, KM_Clust.labels_))"
   ]
  },
  {
   "cell_type": "code",
   "execution_count": 56,
   "id": "4af41cf6",
   "metadata": {},
   "outputs": [],
   "source": [
    "# holds the cluster id and the images { id: [images] }\n",
    "groups = {}\n",
    "for file, cluster in zip(filenames,KM_Clust.labels_):\n",
    "    if cluster not in groups.keys():\n",
    "        groups[cluster] = []\n",
    "        groups[cluster].append(file)\n",
    "    else:\n",
    "        groups[cluster].append(file)"
   ]
  },
  {
   "cell_type": "code",
   "execution_count": 57,
   "id": "61ad3c77",
   "metadata": {},
   "outputs": [],
   "source": [
    "#len (groups[0])\n",
    "f = open(\"StainCluster0_Medoids.txt\", \"w\")\n",
    "for name in groups[0]:\n",
    "    f.write(name)\n",
    "    f.write(\"\\n\")\n",
    "f.close()"
   ]
  },
  {
   "cell_type": "code",
   "execution_count": 58,
   "id": "87a72fa9",
   "metadata": {},
   "outputs": [],
   "source": [
    "#len (groups[1])\n",
    "f = open(\"StainCluster1_Medoids.txt\", \"w\")\n",
    "for name in groups[1]:\n",
    "    f.write(name)\n",
    "    f.write(\"\\n\")\n",
    "f.close()"
   ]
  },
  {
   "cell_type": "code",
   "execution_count": 59,
   "id": "06972073",
   "metadata": {},
   "outputs": [],
   "source": [
    "#len (groups[1])\n",
    "f = open(\"StainCluster2_Medoids.txt\", \"w\")\n",
    "for name in groups[2]:\n",
    "    f.write(name)\n",
    "    f.write(\"\\n\")\n",
    "f.close()"
   ]
  },
  {
   "cell_type": "code",
   "execution_count": 62,
   "id": "6ea36fab",
   "metadata": {
    "scrolled": true
   },
   "outputs": [],
   "source": [
    "# view_cluster(0)"
   ]
  }
 ],
 "metadata": {
  "kernelspec": {
   "display_name": "Python 3 (ipykernel)",
   "language": "python",
   "name": "python3"
  },
  "language_info": {
   "codemirror_mode": {
    "name": "ipython",
    "version": 3
   },
   "file_extension": ".py",
   "mimetype": "text/x-python",
   "name": "python",
   "nbconvert_exporter": "python",
   "pygments_lexer": "ipython3",
   "version": "3.10.9"
  }
 },
 "nbformat": 4,
 "nbformat_minor": 5
}
